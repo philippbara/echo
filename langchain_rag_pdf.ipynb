{
 "cells": [
  {
   "cell_type": "code",
   "execution_count": 7,
   "metadata": {},
   "outputs": [],
   "source": [
    "import getpass\n",
    "import os\n",
    "\n",
    "os.environ[\"LANGCHAIN_TRACING_V2\"] = \"true\"\n",
    "os.environ[\"LANGCHAIN_API_KEY\"] = \"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\"\n",
    "os.environ[\"LANGCHAIN_ENDPOINT\"] = \"https://api.smith.langchain.com\"\n",
    "os.environ[\"LANGCHAIN_PROJECT\"] = \"pr-flowery-realization-1\"\n"
   ]
  },
  {
   "cell_type": "code",
   "execution_count": 2,
   "metadata": {},
   "outputs": [
    {
     "name": "stdout",
     "output_type": "stream",
     "text": [
      "1\n"
     ]
    }
   ],
   "source": [
    "from langchain_community.document_loaders import PyPDFLoader\n",
    "\n",
    "file_path = \"example_data/cv_philippos_barabas.pdf\"\n",
    "loader = PyPDFLoader(file_path)\n",
    "\n",
    "docs = loader.load()\n",
    "\n",
    "print(len(docs))"
   ]
  },
  {
   "cell_type": "code",
   "execution_count": 10,
   "metadata": {},
   "outputs": [],
   "source": [
    "from langchain_openai import ChatOpenAI\n",
    "\n",
    "llm = ChatOpenAI(model=\"gpt-4o\")"
   ]
  },
  {
   "cell_type": "code",
   "execution_count": 8,
   "metadata": {},
   "outputs": [],
   "source": [
    "from langchain_core.vectorstores import InMemoryVectorStore\n",
    "from langchain_openai import OpenAIEmbeddings\n",
    "from langchain_text_splitters import RecursiveCharacterTextSplitter\n",
    "\n",
    "text_splitter = RecursiveCharacterTextSplitter(chunk_size=1000, chunk_overlap=200)\n",
    "splits = text_splitter.split_documents(docs)\n",
    "vectorstore = InMemoryVectorStore.from_documents(\n",
    "    documents=splits, embedding=OpenAIEmbeddings()\n",
    ")\n",
    "\n",
    "retriever = vectorstore.as_retriever()"
   ]
  },
  {
   "cell_type": "code",
   "execution_count": 11,
   "metadata": {},
   "outputs": [
    {
     "data": {
      "text/plain": [
       "{'input': \"What is the person's name?\",\n",
       " 'context': [Document(id='1378dfc7-b905-4db1-9751-1f6bcf6202e1', metadata={'source': 'example_data/cv_philippos_barabas.pdf', 'page': 0}, page_content='B. SC. & M. SC. IN ELECTRICAL ENGINEERING | 10/2013 -\\n03/2020EDUCATION & PUBLICATIONS\\nCOLAW: Cooperative Location Proof \\nArchitecture for VANETs based on\\nWitnessing (doi.org)\\nBARABAS P., REGNATH E., STEINHORST S. | COINS:\\nCONFERENCE ON OMNI-LAYER INTELLIGENT SYSTEMS | 2020LANGUAGES\\nEnglish\\nGerman\\nGreek\\nChineseInternet of Things\\nRelationship Management\\nAnalytical ThinkingTechnical CommunicationCloud ComputingPOC/MVP CreationTechnical Architecture\\nPost-Sales Support\\nProduct Demonstrations\\nAdaptabilityTECHNICAL & SOFT SKILLSEngineer and founder with 5 years of experience in the automotive and technical\\nconsulting sector. Proven track record in conceptualizing and delivering technical\\nsolutions tailored to clients’ needs, managing client relationships, and providing pre-\\nsales technical assistance in both B2B and B2C environments. Highly skilled in\\ncommunicating complex technical concepts and solutions to non-technical'),\n",
       "  Document(id='6e4714d0-d2d3-42c1-8379-1ed0d0cc30a1', metadata={'source': 'example_data/cv_philippos_barabas.pdf', 'page': 0}, page_content='Key responsibilities: \\nFull-stack development of an Android app MVP to demonstrate the benefits of\\ntruck platooning\\nDesigning the technical architecture of the solution and launching the MVP\\nGather requirements and expectations from end-users and key stakeholders\\nAchievements: \\nMVP was tested on real road conditions and showcased at internal company\\neventsIndustry 4.0\\nFuturism\\nHumane technologySustainability\\nINTERESTS'),\n",
       "  Document(id='5f2757e8-64f8-494a-872b-ea8398d27fe5', metadata={'source': 'example_data/cv_philippos_barabas.pdf', 'page': 0}, page_content='+49 176 57868854\\npbarabas@proton.me\\nPoetschnerstraße 7\\n80634 Munich, GermanyCONTACT\\nlinkedin.com/in/philipposbarabasPHILIPPOS\\nG. BARABAS\\nENGINEER & FOUNDER\\nDescription: The zero-waste grocery delivery service Terano (terano.de) with its\\nintuitive container deposit system for stables proved that grocery shopping can be\\nboth sustainable and convenient. \\nKey responsibilities:\\nManaging warehouse operations, procurement and last-mile delivery\\nResponsible for customer and supplier relationships\\nSupported on various other startup activities like creating marketing material,\\nshop design, legal matters and data analytics\\nAchievements: \\nTerano generated five figure revenues and was featured on local newsTERANO | 03/2021 - 10/2022\\nCO-FOUNDER, COO\\nLothar & Sigrid Rohde Foundation Scholarship (2017)Technical University of Munich\\nB. SC. & M. SC. IN ELECTRICAL ENGINEERING | 10/2013 -\\n03/2020EDUCATION & PUBLICATIONS\\nCOLAW: Cooperative Location Proof \\nArchitecture for VANETs based on'),\n",
       "  Document(id='ec2219f6-05bf-4b8d-959e-a9090b190890', metadata={'source': 'example_data/cv_philippos_barabas.pdf', 'page': 0}, page_content='projects:\\nTURING | TECHNICAL CONSULTANT | Q1 2024 - PRESENT\\nKey responsibilities: \\nStrengthen the GenAI footprint in the German automotive sector \\nEngaging with clients and project leads to understand needs and pain points\\nIdentifying GenAI use-cases and proposing technical solutions\\nGAIA-X 4 KI | TECHNICAL CONSULTANT | Q2 2021 - PRESENT\\nKey responsibilities: \\nIdentifying automotive business cases for the European federated data\\ninfrastructure project, GAIA-X\\nDesigning and developing demos showcasing the value added \\nUnderstanding and aligning key stakeholders requirements\\nAchievements: \\nThe maturity of the use cases led to them being used as a reference across the\\nconsortium\\nDemos and software components developed are reusable across many projects\\nSILC | TECHNICAL LEAD | Q2 2019 - Q2 2022\\nKey responsibilities: \\nFull-stack development of an Android app MVP to demonstrate the benefits of\\ntruck platooning\\nDesigning the technical architecture of the solution and launching the MVP')],\n",
       " 'answer': \"The person's name is Philippos G. Barabas.\"}"
      ]
     },
     "execution_count": 11,
     "metadata": {},
     "output_type": "execute_result"
    }
   ],
   "source": [
    "from langchain.chains import create_retrieval_chain\n",
    "from langchain.chains.combine_documents import create_stuff_documents_chain\n",
    "from langchain_core.prompts import ChatPromptTemplate\n",
    "\n",
    "system_prompt = (\n",
    "    \"You are an assistant for question-answering tasks. \"\n",
    "    \"Use the following pieces of retrieved context to answer \"\n",
    "    \"the question. If you don't know the answer, say that you \"\n",
    "    \"don't know. Use three sentences maximum and keep the \"\n",
    "    \"answer concise.\"\n",
    "    \"\\n\\n\"\n",
    "    \"{context}\"\n",
    ")\n",
    "\n",
    "prompt = ChatPromptTemplate.from_messages(\n",
    "    [\n",
    "        (\"system\", system_prompt),\n",
    "        (\"human\", \"{input}\"),\n",
    "    ]\n",
    ")\n",
    "\n",
    "\n",
    "question_answer_chain = create_stuff_documents_chain(llm, prompt)\n",
    "rag_chain = create_retrieval_chain(retriever, question_answer_chain)\n",
    "\n",
    "results = rag_chain.invoke({\"input\": \"What is the person's name?\"})\n",
    "\n",
    "results"
   ]
  },
  {
   "cell_type": "code",
   "execution_count": 14,
   "metadata": {},
   "outputs": [
    {
     "data": {
      "text/plain": [
       "{'input': \"what are Philippos' strongest skills? What do you base that on?\",\n",
       " 'context': [Document(id='5f2757e8-64f8-494a-872b-ea8398d27fe5', metadata={'source': 'example_data/cv_philippos_barabas.pdf', 'page': 0}, page_content='+49 176 57868854\\npbarabas@proton.me\\nPoetschnerstraße 7\\n80634 Munich, GermanyCONTACT\\nlinkedin.com/in/philipposbarabasPHILIPPOS\\nG. BARABAS\\nENGINEER & FOUNDER\\nDescription: The zero-waste grocery delivery service Terano (terano.de) with its\\nintuitive container deposit system for stables proved that grocery shopping can be\\nboth sustainable and convenient. \\nKey responsibilities:\\nManaging warehouse operations, procurement and last-mile delivery\\nResponsible for customer and supplier relationships\\nSupported on various other startup activities like creating marketing material,\\nshop design, legal matters and data analytics\\nAchievements: \\nTerano generated five figure revenues and was featured on local newsTERANO | 03/2021 - 10/2022\\nCO-FOUNDER, COO\\nLothar & Sigrid Rohde Foundation Scholarship (2017)Technical University of Munich\\nB. SC. & M. SC. IN ELECTRICAL ENGINEERING | 10/2013 -\\n03/2020EDUCATION & PUBLICATIONS\\nCOLAW: Cooperative Location Proof \\nArchitecture for VANETs based on'),\n",
       "  Document(id='1378dfc7-b905-4db1-9751-1f6bcf6202e1', metadata={'source': 'example_data/cv_philippos_barabas.pdf', 'page': 0}, page_content='B. SC. & M. SC. IN ELECTRICAL ENGINEERING | 10/2013 -\\n03/2020EDUCATION & PUBLICATIONS\\nCOLAW: Cooperative Location Proof \\nArchitecture for VANETs based on\\nWitnessing (doi.org)\\nBARABAS P., REGNATH E., STEINHORST S. | COINS:\\nCONFERENCE ON OMNI-LAYER INTELLIGENT SYSTEMS | 2020LANGUAGES\\nEnglish\\nGerman\\nGreek\\nChineseInternet of Things\\nRelationship Management\\nAnalytical ThinkingTechnical CommunicationCloud ComputingPOC/MVP CreationTechnical Architecture\\nPost-Sales Support\\nProduct Demonstrations\\nAdaptabilityTECHNICAL & SOFT SKILLSEngineer and founder with 5 years of experience in the automotive and technical\\nconsulting sector. Proven track record in conceptualizing and delivering technical\\nsolutions tailored to clients’ needs, managing client relationships, and providing pre-\\nsales technical assistance in both B2B and B2C environments. Highly skilled in\\ncommunicating complex technical concepts and solutions to non-technical'),\n",
       "  Document(id='64eae8b8-9735-4ddd-8593-fa5e82ef672b', metadata={'source': 'example_data/cv_philippos_barabas.pdf', 'page': 0}, page_content='sales technical assistance in both B2B and B2C environments. Highly skilled in\\ncommunicating complex technical concepts and solutions to non-technical\\naudiences, and passionate about the future of technology and its role in creating a\\nsustainable society.ABOUT ME\\nAchievements: \\nFinal product used to steer software development processes of more than 1200\\nemployees\\nParent company of the client raised interest in adopting final productASSM | TECHNICAL CONSULTANT | Q4 2022 - Q1 2024\\nKey responsibilities: \\nDevelopment and delivery of production ready solution\\nAnalyzed business data and proposed technical architecture solutions\\nWorked closely and in short iterations with the clientWORK EXPERIENCE\\nCAPGEMINI ENGINEERING | 10/2018 - PRESENT\\nWorked on 5+ client, R&D and European research projects. Some selected\\nprojects:\\nTURING | TECHNICAL CONSULTANT | Q1 2024 - PRESENT\\nKey responsibilities: \\nStrengthen the GenAI footprint in the German automotive sector'),\n",
       "  Document(id='6e4714d0-d2d3-42c1-8379-1ed0d0cc30a1', metadata={'source': 'example_data/cv_philippos_barabas.pdf', 'page': 0}, page_content='Key responsibilities: \\nFull-stack development of an Android app MVP to demonstrate the benefits of\\ntruck platooning\\nDesigning the technical architecture of the solution and launching the MVP\\nGather requirements and expectations from end-users and key stakeholders\\nAchievements: \\nMVP was tested on real road conditions and showcased at internal company\\neventsIndustry 4.0\\nFuturism\\nHumane technologySustainability\\nINTERESTS')],\n",
       " 'answer': \"Philippos' strongest skills include technical communication, relationship management, and analytical thinking. This is based on his proven track record in conceptualizing and delivering technical solutions while managing client relationships and providing pre-sales technical assistance in both B2B and B2C environments. He is also highly skilled in communicating complex technical concepts to non-technical audiences.\"}"
      ]
     },
     "execution_count": 14,
     "metadata": {},
     "output_type": "execute_result"
    }
   ],
   "source": [
    "results = rag_chain.invoke({\"input\": \"what are Philippos' strongest skills? What do you base that on?\"})\n",
    "\n",
    "results"
   ]
  }
 ],
 "metadata": {
  "kernelspec": {
   "display_name": "genai",
   "language": "python",
   "name": "python3"
  },
  "language_info": {
   "codemirror_mode": {
    "name": "ipython",
    "version": 3
   },
   "file_extension": ".py",
   "mimetype": "text/x-python",
   "name": "python",
   "nbconvert_exporter": "python",
   "pygments_lexer": "ipython3",
   "version": "3.11.10"
  }
 },
 "nbformat": 4,
 "nbformat_minor": 2
}
